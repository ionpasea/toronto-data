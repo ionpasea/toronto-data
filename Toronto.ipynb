{
    "cells": [
        {
            "cell_type": "markdown",
            "metadata": {},
            "source": "<h1 align=\"center\"><font size=\"5\"><b>Toronto Assignment</b></font></h1>"
        },
        {
            "cell_type": "markdown",
            "metadata": {},
            "source": "<p>This notebook is used for Peer-graded Assignment: Segmenting and Clustering Neighborhoods in Toronto </p>\n<p>1. Import libraries and read data</p>\n<p>2. Clean Data of Not Assigned Borough</p>\n<p>3. Replace Data for 'Not Assigned' neighborhooda</p>\n<p>4. Group data by postal code</p>\n<p>5. Call shape</p>\n"
        },
        {
            "cell_type": "code",
            "execution_count": 66,
            "metadata": {},
            "outputs": [
                {
                    "data": {
                        "text/plain": "(103, 3)"
                    },
                    "execution_count": 66,
                    "metadata": {},
                    "output_type": "execute_result"
                }
            ],
            "source": "#1\nimport pandas as pd\n\nurl='https://en.wikipedia.org/wiki/List_of_postal_codes_of_Canada:_M'\n\ndf=pd.read_html(url, header=0)[0]\n\n#2\ndf = df[df['Borough'] != 'Not assigned']\n\ndf.reset_index(inplace = True)\n\ndf.drop(\"index\", axis = 1, inplace=True)\n#3\ndf.loc[(df.Neighborhood == 'Not assigned'),'Neighborhood']=df.Borough\n#4\ndf = df.groupby(['Postcode','Borough'], axis=0)['Neighborhood'].agg( ','.join).to_frame()\n\ndf.reset_index(inplace = True)\n#5\ndf.shape\n"
        },
        {
            "cell_type": "code",
            "execution_count": null,
            "metadata": {},
            "outputs": [],
            "source": ""
        }
    ],
    "metadata": {
        "kernelspec": {
            "display_name": "Python 3.6",
            "language": "python",
            "name": "python3"
        },
        "language_info": {
            "codemirror_mode": {
                "name": "ipython",
                "version": 3
            },
            "file_extension": ".py",
            "mimetype": "text/x-python",
            "name": "python",
            "nbconvert_exporter": "python",
            "pygments_lexer": "ipython3",
            "version": "3.6.8"
        }
    },
    "nbformat": 4,
    "nbformat_minor": 1
}